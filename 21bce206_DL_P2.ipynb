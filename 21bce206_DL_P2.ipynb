{
 "cells": [
  {
   "cell_type": "markdown",
   "metadata": {
    "_cell_guid": "b1076dfc-b9ad-4769-8c92-a6c4dae69d19",
    "_uuid": "8f2839f25d086af736a60e9eeb907d3b93b6e0e5"
   },
   "source": [
    "# What is Torch?\n",
    "Torch is an open-source machine learning library, a scientific computing framework, and a scripting language based on Lua\n",
    "\n",
    "# what is PyTorch?\n",
    "PyTorch offers domain-specific libraries such as TorchText, TorchVision, and TorchAudio, all of which include datasets."
   ]
  },
  {
   "cell_type": "markdown",
   "metadata": {
    "execution": {
     "iopub.execute_input": "2024-02-02T03:19:56.384282Z",
     "iopub.status.busy": "2024-02-02T03:19:56.383816Z",
     "iopub.status.idle": "2024-02-02T03:19:56.392407Z",
     "shell.execute_reply": "2024-02-02T03:19:56.391253Z",
     "shell.execute_reply.started": "2024-02-02T03:19:56.384250Z"
    }
   },
   "source": [
    "# TENSORS\n",
    "Tensors are a specialized data structure that are very similar to arrays and matrices. Tensors can run on GPUs or other hardware accelerators. Tensors are also optimized for automatic differentiation \n"
   ]
  },
  {
   "cell_type": "code",
   "execution_count": 2,
   "metadata": {
    "execution": {
     "iopub.execute_input": "2024-02-02T03:21:07.518173Z",
     "iopub.status.busy": "2024-02-02T03:21:07.517155Z",
     "iopub.status.idle": "2024-02-02T03:21:07.523580Z",
     "shell.execute_reply": "2024-02-02T03:21:07.522319Z",
     "shell.execute_reply.started": "2024-02-02T03:21:07.518137Z"
    }
   },
   "outputs": [
    {
     "ename": "ModuleNotFoundError",
     "evalue": "No module named 'torch'",
     "output_type": "error",
     "traceback": [
      "\u001b[0;31m---------------------------------------------------------------------------\u001b[0m",
      "\u001b[0;31mModuleNotFoundError\u001b[0m                       Traceback (most recent call last)",
      "Cell \u001b[0;32mIn[2], line 1\u001b[0m\n\u001b[0;32m----> 1\u001b[0m \u001b[38;5;28;01mimport\u001b[39;00m \u001b[38;5;21;01mtorch\u001b[39;00m\n\u001b[1;32m      2\u001b[0m \u001b[38;5;28;01mimport\u001b[39;00m \u001b[38;5;21;01mnumpy\u001b[39;00m \u001b[38;5;28;01mas\u001b[39;00m \u001b[38;5;21;01mnp\u001b[39;00m\n",
      "\u001b[0;31mModuleNotFoundError\u001b[0m: No module named 'torch'"
     ]
    }
   ],
   "source": [
    "import torch\n",
    "import numpy as np"
   ]
  },
  {
   "cell_type": "code",
   "execution_count": 8,
   "metadata": {
    "execution": {
     "iopub.execute_input": "2024-02-02T03:21:23.826987Z",
     "iopub.status.busy": "2024-02-02T03:21:23.826613Z",
     "iopub.status.idle": "2024-02-02T03:21:23.833006Z",
     "shell.execute_reply": "2024-02-02T03:21:23.831654Z",
     "shell.execute_reply.started": "2024-02-02T03:21:23.826959Z"
    }
   },
   "outputs": [],
   "source": [
    "# direct tensors\n",
    "data = [[1, 2],[3, 4]]\n",
    "x_data = torch.tensor(data)"
   ]
  },
  {
   "cell_type": "code",
   "execution_count": 9,
   "metadata": {
    "execution": {
     "iopub.execute_input": "2024-02-02T03:21:53.671743Z",
     "iopub.status.busy": "2024-02-02T03:21:53.671322Z",
     "iopub.status.idle": "2024-02-02T03:21:53.677504Z",
     "shell.execute_reply": "2024-02-02T03:21:53.676549Z",
     "shell.execute_reply.started": "2024-02-02T03:21:53.671713Z"
    }
   },
   "outputs": [],
   "source": [
    "# tensor from numpy array\n",
    "np_array = np.array(data)\n",
    "x_np = torch.from_numpy(np_array)"
   ]
  },
  {
   "cell_type": "code",
   "execution_count": 11,
   "metadata": {
    "execution": {
     "iopub.execute_input": "2024-02-02T03:26:53.870129Z",
     "iopub.status.busy": "2024-02-02T03:26:53.869734Z",
     "iopub.status.idle": "2024-02-02T03:26:53.881406Z",
     "shell.execute_reply": "2024-02-02T03:26:53.880167Z",
     "shell.execute_reply.started": "2024-02-02T03:26:53.870102Z"
    }
   },
   "outputs": [
    {
     "name": "stdout",
     "output_type": "stream",
     "text": [
      "Ones Tensor: \n",
      " tensor([[1, 1],\n",
      "        [1, 1]]) \n",
      "\n",
      "Random Tensor: \n",
      " tensor([[0.7014, 0.8271],\n",
      "        [0.7536, 0.8763]]) \n",
      "\n"
     ]
    }
   ],
   "source": [
    "x_ones = torch.ones_like(x_data) # retains the properties of x_data i.e. its shape\n",
    "print(f\"Ones Tensor: \\n {x_ones} \\n\")\n",
    "\n",
    "\n",
    "# Returns a tensor with the same size as input that is filled with random numbers\n",
    "# from a uniform distribution on the interval [0,1).\n",
    "\n",
    "x_rand = torch.rand_like(x_data, dtype=torch.float) # overrides the datatype of x_data\n",
    "print(f\"Random Tensor: \\n {x_rand} \\n\")"
   ]
  },
  {
   "cell_type": "code",
   "execution_count": 10,
   "metadata": {
    "execution": {
     "iopub.execute_input": "2024-02-02T03:26:49.313507Z",
     "iopub.status.busy": "2024-02-02T03:26:49.313059Z",
     "iopub.status.idle": "2024-02-02T03:26:49.358768Z",
     "shell.execute_reply": "2024-02-02T03:26:49.357436Z",
     "shell.execute_reply.started": "2024-02-02T03:26:49.313477Z"
    }
   },
   "outputs": [
    {
     "name": "stdout",
     "output_type": "stream",
     "text": [
      "Random Tensor: \n",
      " tensor([[0.4771, 0.8117, 0.8949],\n",
      "        [0.2307, 0.4574, 0.2820]]) \n",
      "\n",
      "Ones Tensor: \n",
      " tensor([[1., 1., 1.],\n",
      "        [1., 1., 1.]]) \n",
      "\n",
      "Zeros Tensor: \n",
      " tensor([[0., 0., 0.],\n",
      "        [0., 0., 0.]])\n"
     ]
    }
   ],
   "source": [
    "shape = (2,3,)\n",
    "rand_tensor = torch.rand(shape)\n",
    "ones_tensor = torch.ones(shape)\n",
    "zeros_tensor = torch.zeros(shape)\n",
    "\n",
    "print(f\"Random Tensor: \\n {rand_tensor} \\n\")\n",
    "print(f\"Ones Tensor: \\n {ones_tensor} \\n\")\n",
    "print(f\"Zeros Tensor: \\n {zeros_tensor}\")"
   ]
  },
  {
   "cell_type": "markdown",
   "metadata": {},
   "source": [
    "# Tensor operations"
   ]
  },
  {
   "cell_type": "code",
   "execution_count": 12,
   "metadata": {
    "execution": {
     "iopub.execute_input": "2024-02-02T03:31:26.714772Z",
     "iopub.status.busy": "2024-02-02T03:31:26.714282Z",
     "iopub.status.idle": "2024-02-02T03:31:26.721672Z",
     "shell.execute_reply": "2024-02-02T03:31:26.719960Z",
     "shell.execute_reply.started": "2024-02-02T03:31:26.714738Z"
    }
   },
   "outputs": [],
   "source": [
    "tensor_a = torch.tensor([1, 2, 3, 4])"
   ]
  },
  {
   "cell_type": "code",
   "execution_count": 14,
   "metadata": {
    "execution": {
     "iopub.execute_input": "2024-02-02T03:31:47.197066Z",
     "iopub.status.busy": "2024-02-02T03:31:47.195567Z",
     "iopub.status.idle": "2024-02-02T03:31:47.205606Z",
     "shell.execute_reply": "2024-02-02T03:31:47.204490Z",
     "shell.execute_reply.started": "2024-02-02T03:31:47.197015Z"
    }
   },
   "outputs": [
    {
     "name": "stdout",
     "output_type": "stream",
     "text": [
      "tensor([ 6,  8, 10, 12])\n"
     ]
    }
   ],
   "source": [
    "tensor_a = torch.tensor([1, 2, 3, 4])\n",
    "tensor_b = torch.tensor([5, 6, 7, 8])\n",
    "\n",
    "# Element-wise addition\n",
    "result = tensor_a + tensor_b\n",
    "\n",
    "print(result)"
   ]
  },
  {
   "cell_type": "code",
   "execution_count": 15,
   "metadata": {
    "execution": {
     "iopub.execute_input": "2024-02-02T03:32:11.673848Z",
     "iopub.status.busy": "2024-02-02T03:32:11.673439Z",
     "iopub.status.idle": "2024-02-02T03:32:11.689056Z",
     "shell.execute_reply": "2024-02-02T03:32:11.687656Z",
     "shell.execute_reply.started": "2024-02-02T03:32:11.673820Z"
    }
   },
   "outputs": [
    {
     "name": "stdout",
     "output_type": "stream",
     "text": [
      "tensor([[19, 22],\n",
      "        [43, 50]])\n"
     ]
    }
   ],
   "source": [
    "matrix_a = torch.tensor([[1, 2], [3, 4]])\n",
    "matrix_b = torch.tensor([[5, 6], [7, 8]])\n",
    "\n",
    "# Matrix multiplication\n",
    "result = torch.mm(matrix_a, matrix_b)\n",
    "\n",
    "print(result)"
   ]
  },
  {
   "cell_type": "code",
   "execution_count": 16,
   "metadata": {
    "execution": {
     "iopub.execute_input": "2024-02-02T03:32:32.633679Z",
     "iopub.status.busy": "2024-02-02T03:32:32.633247Z",
     "iopub.status.idle": "2024-02-02T03:32:32.642943Z",
     "shell.execute_reply": "2024-02-02T03:32:32.641427Z",
     "shell.execute_reply.started": "2024-02-02T03:32:32.633649Z"
    }
   },
   "outputs": [
    {
     "name": "stdout",
     "output_type": "stream",
     "text": [
      "tensor([ 5, 12, 21, 32])\n"
     ]
    }
   ],
   "source": [
    "tensor_a = torch.tensor([1, 2, 3, 4])\n",
    "tensor_b = torch.tensor([5, 6, 7, 8])\n",
    "\n",
    "# Element-wise multiplication\n",
    "result = tensor_a * tensor_b\n",
    "\n",
    "print(result)"
   ]
  },
  {
   "cell_type": "code",
   "execution_count": 17,
   "metadata": {
    "execution": {
     "iopub.execute_input": "2024-02-02T03:32:46.877183Z",
     "iopub.status.busy": "2024-02-02T03:32:46.876774Z",
     "iopub.status.idle": "2024-02-02T03:32:46.882565Z",
     "shell.execute_reply": "2024-02-02T03:32:46.881423Z",
     "shell.execute_reply.started": "2024-02-02T03:32:46.877152Z"
    }
   },
   "outputs": [],
   "source": [
    "matrix = torch.tensor([[1, 2], [3, 4]])\n",
    "\n",
    "# Transposing the matrix\n",
    "transposed_matrix = matrix.t()"
   ]
  },
  {
   "cell_type": "code",
   "execution_count": 20,
   "metadata": {
    "execution": {
     "iopub.execute_input": "2024-02-02T03:33:37.694909Z",
     "iopub.status.busy": "2024-02-02T03:33:37.694394Z",
     "iopub.status.idle": "2024-02-02T03:33:37.703094Z",
     "shell.execute_reply": "2024-02-02T03:33:37.701888Z",
     "shell.execute_reply.started": "2024-02-02T03:33:37.694875Z"
    }
   },
   "outputs": [
    {
     "name": "stdout",
     "output_type": "stream",
     "text": [
      "tensor([3, 7])\n"
     ]
    }
   ],
   "source": [
    "tensor = torch.tensor([[1, 2], [3, 4]])\n",
    "\n",
    "# Summing along a specified axis\n",
    "sum_along_axis_1 = tensor.sum(dim=1)\n",
    "\n",
    "print(sum_along_axis_1)"
   ]
  },
  {
   "cell_type": "code",
   "execution_count": 21,
   "metadata": {
    "execution": {
     "iopub.execute_input": "2024-02-02T03:34:02.848397Z",
     "iopub.status.busy": "2024-02-02T03:34:02.847930Z",
     "iopub.status.idle": "2024-02-02T03:34:02.857914Z",
     "shell.execute_reply": "2024-02-02T03:34:02.856793Z",
     "shell.execute_reply.started": "2024-02-02T03:34:02.848335Z"
    }
   },
   "outputs": [],
   "source": [
    "tensor = torch.tensor([1, 2, 3, 4, 5])\n",
    "\n",
    "# Slicing the tensor\n",
    "sliced_tensor = tensor[1:4]"
   ]
  },
  {
   "cell_type": "code",
   "execution_count": 22,
   "metadata": {
    "execution": {
     "iopub.execute_input": "2024-02-02T03:34:21.366527Z",
     "iopub.status.busy": "2024-02-02T03:34:21.366061Z",
     "iopub.status.idle": "2024-02-02T03:34:21.375226Z",
     "shell.execute_reply": "2024-02-02T03:34:21.373991Z",
     "shell.execute_reply.started": "2024-02-02T03:34:21.366496Z"
    }
   },
   "outputs": [
    {
     "name": "stdout",
     "output_type": "stream",
     "text": [
      "tensor(10)\n"
     ]
    }
   ],
   "source": [
    "tensor = torch.tensor([[1, 2], [3, 4]])\n",
    "\n",
    "# Computing the sum along all dimensions\n",
    "total_sum = tensor.sum()\n",
    "\n",
    "print(total_sum)"
   ]
  },
  {
   "cell_type": "code",
   "execution_count": 24,
   "metadata": {
    "execution": {
     "iopub.execute_input": "2024-02-02T03:34:48.872062Z",
     "iopub.status.busy": "2024-02-02T03:34:48.871623Z",
     "iopub.status.idle": "2024-02-02T03:34:48.881291Z",
     "shell.execute_reply": "2024-02-02T03:34:48.879610Z",
     "shell.execute_reply.started": "2024-02-02T03:34:48.872032Z"
    }
   },
   "outputs": [
    {
     "name": "stdout",
     "output_type": "stream",
     "text": [
      "tensor([ 2.7183,  7.3891, 20.0855])\n"
     ]
    }
   ],
   "source": [
    "tensor = torch.tensor([1.0, 2.0, 3.0])\n",
    "\n",
    "# Element-wise exponential\n",
    "exponential_tensor = torch.exp(tensor)\n",
    "\n",
    "print(exponential_tensor)"
   ]
  },
  {
   "cell_type": "markdown",
   "metadata": {},
   "source": [
    "# Quickstart"
   ]
  },
  {
   "cell_type": "code",
   "execution_count": 2,
   "metadata": {
    "execution": {
     "iopub.status.idle": "2024-02-02T03:08:57.934286Z",
     "shell.execute_reply": "2024-02-02T03:08:57.933107Z",
     "shell.execute_reply.started": "2024-02-02T03:08:50.629448Z"
    }
   },
   "outputs": [],
   "source": [
    "import torch\n",
    "from torch import nn\n",
    "from torch.utils.data import DataLoader\n",
    "from torchvision import datasets\n",
    "from torchvision.transforms import ToTensor"
   ]
  },
  {
   "cell_type": "code",
   "execution_count": 4,
   "metadata": {
    "execution": {
     "iopub.execute_input": "2024-02-02T03:11:13.225068Z",
     "iopub.status.busy": "2024-02-02T03:11:13.223781Z",
     "iopub.status.idle": "2024-02-02T03:11:14.829444Z",
     "shell.execute_reply": "2024-02-02T03:11:14.826711Z",
     "shell.execute_reply.started": "2024-02-02T03:11:13.225018Z"
    }
   },
   "outputs": [
    {
     "name": "stdout",
     "output_type": "stream",
     "text": [
      "Downloading http://fashion-mnist.s3-website.eu-central-1.amazonaws.com/train-images-idx3-ubyte.gz\n",
      "Downloading http://fashion-mnist.s3-website.eu-central-1.amazonaws.com/train-images-idx3-ubyte.gz to data/FashionMNIST/raw/train-images-idx3-ubyte.gz\n"
     ]
    },
    {
     "name": "stderr",
     "output_type": "stream",
     "text": [
      "100%|██████████| 26421880/26421880 [00:00<00:00, 116186421.15it/s]\n"
     ]
    },
    {
     "name": "stdout",
     "output_type": "stream",
     "text": [
      "Extracting data/FashionMNIST/raw/train-images-idx3-ubyte.gz to data/FashionMNIST/raw\n",
      "\n",
      "Downloading http://fashion-mnist.s3-website.eu-central-1.amazonaws.com/train-labels-idx1-ubyte.gz\n",
      "Downloading http://fashion-mnist.s3-website.eu-central-1.amazonaws.com/train-labels-idx1-ubyte.gz to data/FashionMNIST/raw/train-labels-idx1-ubyte.gz\n"
     ]
    },
    {
     "name": "stderr",
     "output_type": "stream",
     "text": [
      "100%|██████████| 29515/29515 [00:00<00:00, 4679097.50it/s]"
     ]
    },
    {
     "name": "stdout",
     "output_type": "stream",
     "text": [
      "Extracting data/FashionMNIST/raw/train-labels-idx1-ubyte.gz to data/FashionMNIST/raw\n",
      "\n",
      "Downloading http://fashion-mnist.s3-website.eu-central-1.amazonaws.com/t10k-images-idx3-ubyte.gz\n"
     ]
    },
    {
     "name": "stderr",
     "output_type": "stream",
     "text": [
      "\n"
     ]
    },
    {
     "name": "stdout",
     "output_type": "stream",
     "text": [
      "Downloading http://fashion-mnist.s3-website.eu-central-1.amazonaws.com/t10k-images-idx3-ubyte.gz to data/FashionMNIST/raw/t10k-images-idx3-ubyte.gz\n"
     ]
    },
    {
     "name": "stderr",
     "output_type": "stream",
     "text": [
      "100%|██████████| 4422102/4422102 [00:00<00:00, 59374678.22it/s]"
     ]
    },
    {
     "name": "stdout",
     "output_type": "stream",
     "text": [
      "Extracting data/FashionMNIST/raw/t10k-images-idx3-ubyte.gz to data/FashionMNIST/raw\n"
     ]
    },
    {
     "name": "stderr",
     "output_type": "stream",
     "text": [
      "\n"
     ]
    },
    {
     "name": "stdout",
     "output_type": "stream",
     "text": [
      "\n",
      "Downloading http://fashion-mnist.s3-website.eu-central-1.amazonaws.com/t10k-labels-idx1-ubyte.gz\n",
      "Downloading http://fashion-mnist.s3-website.eu-central-1.amazonaws.com/t10k-labels-idx1-ubyte.gz to data/FashionMNIST/raw/t10k-labels-idx1-ubyte.gz\n"
     ]
    },
    {
     "name": "stderr",
     "output_type": "stream",
     "text": [
      "100%|██████████| 5148/5148 [00:00<00:00, 8029853.85it/s]"
     ]
    },
    {
     "name": "stdout",
     "output_type": "stream",
     "text": [
      "Extracting data/FashionMNIST/raw/t10k-labels-idx1-ubyte.gz to data/FashionMNIST/raw\n",
      "\n"
     ]
    },
    {
     "name": "stderr",
     "output_type": "stream",
     "text": [
      "\n"
     ]
    }
   ],
   "source": [
    "# Every TorchVision Dataset includes two arguments: transform and target_transform \n",
    "# to modify the samples and labels respectively.\n",
    "\n",
    "# Download training data from open datasets.\n",
    "training_data = datasets.FashionMNIST(\n",
    "    root=\"data\",                      # Root directory of dataset\n",
    "    train=True,                       # If True, creates dataset from train-images\n",
    "    download=True,                    # If True, downloads the dataset from the internet and puts it in root directory\n",
    "    transform=ToTensor(),             # A function/transform that takes in an PIL image and returns a transformed version\n",
    ")\n",
    "\n",
    "# Download test data from open datasets.\n",
    "test_data = datasets.FashionMNIST(\n",
    "    root=\"data\",\n",
    "    train=False,\n",
    "    download=True,\n",
    "    transform=ToTensor(),\n",
    ")"
   ]
  },
  {
   "cell_type": "code",
   "execution_count": 5,
   "metadata": {
    "execution": {
     "iopub.execute_input": "2024-02-02T03:16:31.036922Z",
     "iopub.status.busy": "2024-02-02T03:16:31.036461Z",
     "iopub.status.idle": "2024-02-02T03:16:31.101401Z",
     "shell.execute_reply": "2024-02-02T03:16:31.100287Z",
     "shell.execute_reply.started": "2024-02-02T03:16:31.036882Z"
    }
   },
   "outputs": [
    {
     "name": "stdout",
     "output_type": "stream",
     "text": [
      "Shape of X [N, C, H, W]: torch.Size([64, 1, 28, 28])\n",
      "Shape of y: torch.Size([64]) torch.int64\n"
     ]
    }
   ],
   "source": [
    "# number of training examples utilized in one iteration.\n",
    "batch_size = 64\n",
    "\n",
    "# Create data loaders.\n",
    "train_dataloader = DataLoader(training_data, batch_size=batch_size)\n",
    "test_dataloader = DataLoader(test_data, batch_size=batch_size)\n",
    "\n",
    "for X, y in test_dataloader:\n",
    "    print(f\"Shape of X [N, C, H, W]: {X.shape}\")\n",
    "    print(f\"Shape of y: {y.shape} {y.dtype}\")\n",
    "    break"
   ]
  },
  {
   "cell_type": "code",
   "execution_count": 25,
   "metadata": {
    "execution": {
     "iopub.execute_input": "2024-02-02T03:40:51.560441Z",
     "iopub.status.busy": "2024-02-02T03:40:51.559943Z",
     "iopub.status.idle": "2024-02-02T03:40:51.583060Z",
     "shell.execute_reply": "2024-02-02T03:40:51.582189Z",
     "shell.execute_reply.started": "2024-02-02T03:40:51.560408Z"
    }
   },
   "outputs": [
    {
     "name": "stdout",
     "output_type": "stream",
     "text": [
      "Using cpu device\n",
      "NeuralNetwork(\n",
      "  (flatten): Flatten(start_dim=1, end_dim=-1)\n",
      "  (linear_relu_stack): Sequential(\n",
      "    (0): Linear(in_features=784, out_features=512, bias=True)\n",
      "    (1): ReLU()\n",
      "    (2): Linear(in_features=512, out_features=512, bias=True)\n",
      "    (3): ReLU()\n",
      "    (4): Linear(in_features=512, out_features=10, bias=True)\n",
      "  )\n",
      ")\n"
     ]
    }
   ],
   "source": [
    "# Get cpu, gpu or mps device for training.\n",
    "device = (\n",
    "    \"cuda\"\n",
    "    if torch.cuda.is_available()\n",
    "    else \"mps\"\n",
    "    if torch.backends.mps.is_available()\n",
    "    else \"cpu\"\n",
    ")\n",
    "print(f\"Using {device} device\")\n",
    "\n",
    "# Define model\n",
    "class NeuralNetwork(nn.Module):\n",
    "    def __init__(self):\n",
    "        super().__init__()\n",
    "        self.flatten = nn.Flatten()\n",
    "        self.linear_relu_stack = nn.Sequential(\n",
    "            nn.Linear(28*28, 512),\n",
    "            nn.ReLU(),\n",
    "            nn.Linear(512, 512),\n",
    "            nn.ReLU(),\n",
    "            nn.Linear(512, 10)\n",
    "        )\n",
    "\n",
    "    def forward(self, x):\n",
    "        x = self.flatten(x)\n",
    "        logits = self.linear_relu_stack(x)\n",
    "        # applies the sequence of linear layers and activation \n",
    "        # functions to the flattened input, producing the raw output scores (logits) for each class.\n",
    "        return logits\n",
    "\n",
    "model = NeuralNetwork().to(device) \n",
    "# An instance of the NeuralNetwork class is created.\n",
    "# .to(device) moves the model to a specified device (e.g., CPU or GPU) for computation.\n",
    "print(model)"
   ]
  },
  {
   "cell_type": "code",
   "execution_count": 26,
   "metadata": {
    "execution": {
     "iopub.execute_input": "2024-02-02T03:50:39.299133Z",
     "iopub.status.busy": "2024-02-02T03:50:39.298712Z",
     "iopub.status.idle": "2024-02-02T03:50:39.324930Z",
     "shell.execute_reply": "2024-02-02T03:50:39.323725Z",
     "shell.execute_reply.started": "2024-02-02T03:50:39.299104Z"
    }
   },
   "outputs": [],
   "source": [
    "loss_fn = nn.CrossEntropyLoss()\n",
    "optimizer = torch.optim.SGD(model.parameters(), lr=1e-3)"
   ]
  },
  {
   "cell_type": "code",
   "execution_count": 27,
   "metadata": {
    "execution": {
     "iopub.execute_input": "2024-02-02T03:55:08.906529Z",
     "iopub.status.busy": "2024-02-02T03:55:08.905989Z",
     "iopub.status.idle": "2024-02-02T03:55:08.917111Z",
     "shell.execute_reply": "2024-02-02T03:55:08.915597Z",
     "shell.execute_reply.started": "2024-02-02T03:55:08.906492Z"
    }
   },
   "outputs": [],
   "source": [
    "def train(dataloader, model, loss_fn, optimizer):\n",
    "    size = len(dataloader.dataset) # stores the total number of samples in the training dataset.\n",
    "    model.train() # sets the model in training mode\n",
    "    for batch, (X, y) in enumerate(dataloader):\n",
    "        X, y = X.to(device), y.to(device)\n",
    "\n",
    "        # forward pass and loss computation\n",
    "        pred = model(X)\n",
    "        loss = loss_fn(pred, y)\n",
    "\n",
    "        # Backpropagation\n",
    "        loss.backward()   # computes the gradients of the model parameters with respect to the loss\n",
    "        optimizer.step()  # updates the model parameters using the gradients computed during backpropagation\n",
    "        optimizer.zero_grad() # resets the gradients to zero after each batch\n",
    "\n",
    "        if batch % 100 == 0:\n",
    "            loss, current = loss.item(), (batch + 1) * len(X)\n",
    "            print(f\"loss: {loss:>7f}  [{current:>5d}/{size:>5d}]\")"
   ]
  },
  {
   "cell_type": "code",
   "execution_count": 28,
   "metadata": {
    "execution": {
     "iopub.execute_input": "2024-02-02T03:55:08.920220Z",
     "iopub.status.busy": "2024-02-02T03:55:08.919518Z",
     "iopub.status.idle": "2024-02-02T03:55:08.935704Z",
     "shell.execute_reply": "2024-02-02T03:55:08.930632Z",
     "shell.execute_reply.started": "2024-02-02T03:55:08.920185Z"
    }
   },
   "outputs": [],
   "source": [
    "def test(dataloader, model, loss_fn):\n",
    "    size = len(dataloader.dataset)\n",
    "    num_batches = len(dataloader)\n",
    "    model.eval()\n",
    "    test_loss, correct = 0, 0\n",
    "    with torch.no_grad():\n",
    "        for X, y in dataloader:\n",
    "            X, y = X.to(device), y.to(device)\n",
    "            pred = model(X)\n",
    "            test_loss += loss_fn(pred, y).item()\n",
    "            correct += (pred.argmax(1) == y).type(torch.float).sum().item()\n",
    "    test_loss /= num_batches\n",
    "    correct /= size\n",
    "    print(f\"Test Error: \\n Accuracy: {(100*correct):>0.1f}%, Avg loss: {test_loss:>8f} \\n\")"
   ]
  },
  {
   "cell_type": "code",
   "execution_count": 29,
   "metadata": {
    "execution": {
     "iopub.execute_input": "2024-02-02T03:55:23.189091Z",
     "iopub.status.busy": "2024-02-02T03:55:23.188667Z",
     "iopub.status.idle": "2024-02-02T03:56:28.472472Z",
     "shell.execute_reply": "2024-02-02T03:56:28.471315Z",
     "shell.execute_reply.started": "2024-02-02T03:55:23.189062Z"
    }
   },
   "outputs": [
    {
     "name": "stdout",
     "output_type": "stream",
     "text": [
      "Epoch 1\n",
      "-------------------------------\n",
      "loss: 2.303779  [   64/60000]\n",
      "loss: 2.291703  [ 6464/60000]\n",
      "loss: 2.277188  [12864/60000]\n",
      "loss: 2.262796  [19264/60000]\n",
      "loss: 2.260150  [25664/60000]\n",
      "loss: 2.223715  [32064/60000]\n",
      "loss: 2.234977  [38464/60000]\n",
      "loss: 2.198499  [44864/60000]\n",
      "loss: 2.199868  [51264/60000]\n",
      "loss: 2.175485  [57664/60000]\n",
      "Test Error: \n",
      " Accuracy: 32.1%, Avg loss: 2.166260 \n",
      "\n",
      "Epoch 2\n",
      "-------------------------------\n",
      "loss: 2.175121  [   64/60000]\n",
      "loss: 2.166471  [ 6464/60000]\n",
      "loss: 2.116611  [12864/60000]\n",
      "loss: 2.128655  [19264/60000]\n",
      "loss: 2.087241  [25664/60000]\n",
      "loss: 2.023089  [32064/60000]\n",
      "loss: 2.053546  [38464/60000]\n",
      "loss: 1.975482  [44864/60000]\n",
      "loss: 1.990534  [51264/60000]\n",
      "loss: 1.924655  [57664/60000]\n",
      "Test Error: \n",
      " Accuracy: 57.7%, Avg loss: 1.918854 \n",
      "\n",
      "Epoch 3\n",
      "-------------------------------\n",
      "loss: 1.941259  [   64/60000]\n",
      "loss: 1.919423  [ 6464/60000]\n",
      "loss: 1.815124  [12864/60000]\n",
      "loss: 1.853860  [19264/60000]\n",
      "loss: 1.751615  [25664/60000]\n",
      "loss: 1.691894  [32064/60000]\n",
      "loss: 1.715896  [38464/60000]\n",
      "loss: 1.616398  [44864/60000]\n",
      "loss: 1.647219  [51264/60000]\n",
      "loss: 1.548250  [57664/60000]\n",
      "Test Error: \n",
      " Accuracy: 62.1%, Avg loss: 1.561097 \n",
      "\n",
      "Epoch 4\n",
      "-------------------------------\n",
      "loss: 1.612767  [   64/60000]\n",
      "loss: 1.587955  [ 6464/60000]\n",
      "loss: 1.448776  [12864/60000]\n",
      "loss: 1.513240  [19264/60000]\n",
      "loss: 1.399259  [25664/60000]\n",
      "loss: 1.385007  [32064/60000]\n",
      "loss: 1.393516  [38464/60000]\n",
      "loss: 1.320243  [44864/60000]\n",
      "loss: 1.358083  [51264/60000]\n",
      "loss: 1.263201  [57664/60000]\n",
      "Test Error: \n",
      " Accuracy: 63.3%, Avg loss: 1.283897 \n",
      "\n",
      "Epoch 5\n",
      "-------------------------------\n",
      "loss: 1.350508  [   64/60000]\n",
      "loss: 1.341579  [ 6464/60000]\n",
      "loss: 1.183130  [12864/60000]\n",
      "loss: 1.278129  [19264/60000]\n",
      "loss: 1.159245  [25664/60000]\n",
      "loss: 1.178138  [32064/60000]\n",
      "loss: 1.188887  [38464/60000]\n",
      "loss: 1.131340  [44864/60000]\n",
      "loss: 1.172190  [51264/60000]\n",
      "loss: 1.093631  [57664/60000]\n",
      "Test Error: \n",
      " Accuracy: 64.5%, Avg loss: 1.108775 \n",
      "\n",
      "Done!\n"
     ]
    }
   ],
   "source": [
    "epochs = 5\n",
    "for t in range(epochs):\n",
    "    print(f\"Epoch {t+1}\\n-------------------------------\")\n",
    "    train(train_dataloader, model, loss_fn, optimizer)\n",
    "    test(test_dataloader, model, loss_fn)\n",
    "print(\"Done!\")"
   ]
  },
  {
   "cell_type": "code",
   "execution_count": 30,
   "metadata": {
    "execution": {
     "iopub.execute_input": "2024-02-02T03:57:05.456443Z",
     "iopub.status.busy": "2024-02-02T03:57:05.455430Z",
     "iopub.status.idle": "2024-02-02T03:57:05.469052Z",
     "shell.execute_reply": "2024-02-02T03:57:05.467458Z",
     "shell.execute_reply.started": "2024-02-02T03:57:05.456407Z"
    }
   },
   "outputs": [
    {
     "name": "stdout",
     "output_type": "stream",
     "text": [
      "Saved PyTorch Model State to model.pth\n"
     ]
    }
   ],
   "source": [
    "torch.save(model.state_dict(), \"model.pth\")\n",
    "print(\"Saved PyTorch Model State to model.pth\")"
   ]
  },
  {
   "cell_type": "code",
   "execution_count": null,
   "metadata": {},
   "outputs": [],
   "source": []
  }
 ],
 "metadata": {
  "kaggle": {
   "accelerator": "none",
   "dataSources": [],
   "dockerImageVersionId": 30646,
   "isGpuEnabled": false,
   "isInternetEnabled": true,
   "language": "python",
   "sourceType": "notebook"
  },
  "kernelspec": {
   "display_name": "Python 3.11.4 64-bit",
   "language": "python",
   "name": "python3"
  },
  "language_info": {
   "codemirror_mode": {
    "name": "ipython",
    "version": 3
   },
   "file_extension": ".py",
   "mimetype": "text/x-python",
   "name": "python",
   "nbconvert_exporter": "python",
   "pygments_lexer": "ipython3",
   "version": "3.11.4"
  },
  "vscode": {
   "interpreter": {
    "hash": "b0fa6594d8f4cbf19f97940f81e996739fb7646882a419484c72d19e05852a7e"
   }
  }
 },
 "nbformat": 4,
 "nbformat_minor": 4
}
